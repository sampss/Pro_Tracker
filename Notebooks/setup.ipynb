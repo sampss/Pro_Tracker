{
 "cells": [
  {
   "cell_type": "code",
   "execution_count": null,
   "id": "00c330b7",
   "metadata": {},
   "outputs": [],
   "source": [
    "import os\n",
    "import django\n",
    "\n",
    "os.environ[\"DJANGO_SETTINGS_MODULE\"] = \"core.settings\"\n",
    "django.setup()"
   ]
  }
 ],
 "metadata": {
  "language_info": {
   "name": "python"
  }
 },
 "nbformat": 4,
 "nbformat_minor": 5
}
